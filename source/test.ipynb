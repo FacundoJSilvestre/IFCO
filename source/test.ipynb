{
 "cells": [
  {
   "cell_type": "code",
   "execution_count": 1,
   "metadata": {},
   "outputs": [],
   "source": [
    "from pyspark.sql import SparkSession\n",
    "from pyspark.sql import functions as F\n",
    "from pyspark.sql import types as T"
   ]
  },
  {
   "cell_type": "code",
   "execution_count": 4,
   "metadata": {},
   "outputs": [
    {
     "name": "stderr",
     "output_type": "stream",
     "text": [
      "24/11/12 13:25:37 WARN Utils: Your hostname, facu-ASUS-TUF-Gaming-F15-FX507ZC4-FX507ZC4 resolves to a loopback address: 127.0.1.1; using 192.168.0.16 instead (on interface wlo1)\n",
      "24/11/12 13:25:37 WARN Utils: Set SPARK_LOCAL_IP if you need to bind to another address\n",
      "Setting default log level to \"WARN\".\n",
      "To adjust logging level use sc.setLogLevel(newLevel). For SparkR, use setLogLevel(newLevel).\n",
      "24/11/12 13:25:47 WARN NativeCodeLoader: Unable to load native-hadoop library for your platform... using builtin-java classes where applicable\n"
     ]
    }
   ],
   "source": [
    "# Create Spark Session.\n",
    "spark = SparkSession.builder.appName(\"task2\").getOrCreate()"
   ]
  },
  {
   "cell_type": "code",
   "execution_count": null,
   "metadata": {},
   "outputs": [
    {
     "data": {
      "text/plain": [
       "'/home/facu/Documents/IFCO/data-engineering-test'"
      ]
     },
     "execution_count": 11,
     "metadata": {},
     "output_type": "execute_result"
    }
   ],
   "source": [
    "import os\n",
    "parent_path = os.path.dirname(os.getcwd())\n",
    "os.path.join(parent_path, 'data-engineering-test/')"
   ]
  },
  {
   "cell_type": "code",
   "execution_count": null,
   "metadata": {},
   "outputs": [],
   "source": []
  },
  {
   "cell_type": "code",
   "execution_count": 37,
   "metadata": {},
   "outputs": [],
   "source": [
    "df = spark.read.csv(\"/home/facu/Documents/IFCO/data-engineering-test/resources/orders.csv\" ,header=True,sep=\";\", inferSchema=True)"
   ]
  },
  {
   "cell_type": "code",
   "execution_count": 38,
   "metadata": {},
   "outputs": [],
   "source": [
    "df_cleaned =  (df\n",
    "            .withColumn(\"cleaned_json\",F.regexp_replace(F.col(\"contact_data\"),\"^['\\\"]|['\\\"]$\",\"\"))\n",
    "            .withColumn(\"cleaned_json\", F.regexp_replace(F.col(\"cleaned_json\"),'\"\"','\"'))\n",
    ")"
   ]
  },
  {
   "cell_type": "code",
   "execution_count": 61,
   "metadata": {},
   "outputs": [
    {
     "data": {
      "text/plain": [
       "[Row(cleaned_json='[{ \"contact_name\":\"Curtis\", \"contact_surname\":\"Jackson\", \"city\":\"Chicago\", \"cp\": \"12345\"}]'),\n",
       " Row(cleaned_json='[{ \"contact_name\":\"Maria\", \"contact_surname\":\"Theresa\", \"city\":\"Calcutta\"}]'),\n",
       " Row(cleaned_json='[{ \"contact_name\":\"Para\", \"contact_surname\":\"Cetamol\", \"city\":\"Frankfurt am Oder\", \"cp\": 3934}]'),\n",
       " Row(cleaned_json=None),\n",
       " Row(cleaned_json=None),\n",
       " Row(cleaned_json='[{ \"contact_name\":\"John\", \"contact_surname\":\"Krasinski\", \"city\":\"New York\", \"cp\": \"1203\"}]'),\n",
       " Row(cleaned_json=None),\n",
       " Row(cleaned_json='[{ \"contact_name\":\"Jennifer\", \"contact_surname\":\"Lopez\", \"city\":\"Esplugues de Llobregat\"}]'),\n",
       " Row(cleaned_json='{ \"contact_name\":\"Liav\", \"contact_surname\": \"Ichenbaum\", \"city\":\"Tel Aviv\"}'),\n",
       " Row(cleaned_json='[{ \"contact_name\":\"Curtis\", \"contact_surname\":\"Jackson\", \"city\":\"Chicago\", \"cp\": \"12345\"}]'),\n",
       " Row(cleaned_json='[{ \"contact_name\":\"Anthony\", \"contact_surname\":\"Pap\", \"city\":\"Barcelona\", \"cp\": 8023}]'),\n",
       " Row(cleaned_json='[{ \"contact_name\":\"Natalia\", \"contact_surname\":\"Romanov\", \"city\":\"Moscow\", \"cp\": \"65432\"}]'),\n",
       " Row(cleaned_json='[{ \"contact_name\":\"Bruce\", \"contact_surname\":\"Wayne\", \"city\":\"Gotham\"}]'),\n",
       " Row(cleaned_json='[{ \"contact_name\":\"Clark\", \"contact_surname\":\"Kent\", \"city\":\"Metropolis\", \"cp\": \"10001\"}]'),\n",
       " Row(cleaned_json=None),\n",
       " Row(cleaned_json='[{ \"contact_name\":\"Tony\", \"contact_surname\":\"Stark\", \"city\":\"New York\"}]'),\n",
       " Row(cleaned_json='[{ \"contact_name\":\"Diana\", \"contact_surname\":\"Prince\", \"city\":\"Themyscira\", \"cp\": \"45789\"}]'),\n",
       " Row(cleaned_json='[{ \"contact_name\":\"Peter\", \"contact_surname\":\"Parker\", \"city\":\"Queens\", \"cp\": \"11432\"}]'),\n",
       " Row(cleaned_json='[{ \"contact_name\":\"Steve\", \"contact_surname\":\"Rogers\", \"city\":\"Brooklyn\", \"cp\": \"11201\"}]'),\n",
       " Row(cleaned_json='[{ \"contact_name\":\"Natasha\", \"contact_surname\":\"Romanov\", \"city\":\"Moscow\", \"cp\": \"65432\"}]'),\n",
       " Row(cleaned_json='[{ \"contact_name\":\"Bruce\", \"contact_surname\":\"Banner\", \"city\":\"San Francisco\", \"cp\": \"94102\"}]'),\n",
       " Row(cleaned_json='[{ \"contact_name\":\"Selina\", \"contact_surname\":\"Kyle\", \"city\":\"Gotham\"}]'),\n",
       " Row(cleaned_json='[{ \"contact_name\":\"Barry\", \"contact_surname\":\"Allen\", \"city\":\"Central City\", \"cp\": \"56321\"}]'),\n",
       " Row(cleaned_json='[{ \"contact_name\":\"Clark\", \"contact_surname\":\"Kent\", \"city\":\"Metropolis\"}]'),\n",
       " Row(cleaned_json=None),\n",
       " Row(cleaned_json='[{ \"contact_name\":\"Diana\", \"contact_surname\":\"Prince\", \"city\":\"Themyscira\", \"cp\": \"45789\"}]'),\n",
       " Row(cleaned_json='[{ \"contact_name\":\"Bruce\", \"contact_surname\":\"Wayne\", \"city\":\"Gotham\"}]'),\n",
       " Row(cleaned_json='[{ \"contact_name\":\"Steve\", \"contact_surname\":\"Rogers\", \"city\":\"Brooklyn\"}]'),\n",
       " Row(cleaned_json='[{ \"contact_name\":\"Peter\", \"contact_surname\":\"Parker\", \"city\":\"Queens\", \"cp\": \"11432\"}]'),\n",
       " Row(cleaned_json=None),\n",
       " Row(cleaned_json='[{ \"contact_name\":\"Tony\", \"contact_surname\":\"Stark\", \"city\":\"New York\"}]'),\n",
       " Row(cleaned_json='[{ \"contact_name\":\"Natalia\", \"contact_surname\":\"Romanov\", \"city\":\"Moscow\", \"cp\": \"65432\"}]'),\n",
       " Row(cleaned_json='[{ \"contact_name\":\"Bruce\", \"contact_surname\":\"Banner\", \"city\":\"San Francisco\", \"cp\": \"94102\"}]'),\n",
       " Row(cleaned_json='[{ \"contact_name\":\"Curtis\", \"contact_surname\":\"Jackson\", \"city\":\"Chicago\", \"cp\": \"12345\"}]'),\n",
       " Row(cleaned_json='[{ \"contact_name\":\"Maria\", \"contact_surname\":\"Theresa\", \"city\":\"Calcutta\"}]'),\n",
       " Row(cleaned_json=None),\n",
       " Row(cleaned_json='[{ \"contact_name\":\"Diana\", \"contact_surname\":\"Prince\", \"city\":\"Themyscira\", \"cp\": \"45789\"}]'),\n",
       " Row(cleaned_json='[{ \"contact_name\":\"Bruce\", \"contact_surname\":\"Wayne\", \"city\":\"Gotham\"}]'),\n",
       " Row(cleaned_json='[{ \"contact_name\":\"Steve\", \"contact_surname\":\"Rogers\", \"city\":\"Brooklyn\", \"cp\": \"11201\"}]'),\n",
       " Row(cleaned_json='[{ \"contact_name\":\"Peter\", \"contact_surname\":\"Parker\", \"city\":\"Queens\", \"cp\": \"11432\"}]'),\n",
       " Row(cleaned_json=None),\n",
       " Row(cleaned_json='[{ \"contact_name\":\"Curtis\", \"contact_surname\":\"Jackson\", \"city\":\"Chicago\", \"cp\": \"12345\"}]'),\n",
       " Row(cleaned_json='[{ \"contact_name\":\"Maria\", \"contact_surname\":\"Theresa\", \"city\":\"Calcutta\"}]'),\n",
       " Row(cleaned_json='[{ \"contact_name\":\"Para\", \"contact_surname\":\"Cetamol\", \"city\":\"Frankfurt am Oder\", \"cp\": 3934}]'),\n",
       " Row(cleaned_json=None),\n",
       " Row(cleaned_json=None),\n",
       " Row(cleaned_json='[{ \"contact_name\":\"John\", \"contact_surname\":\"Krasinski\", \"city\":\"New York\", \"cp\": \"1203\"}]'),\n",
       " Row(cleaned_json=None),\n",
       " Row(cleaned_json='[{ \"contact_name\":\"Jennifer\", \"contact_surname\":\"Lopez\", \"city\":\"Esplugues de Llobregat\"}]'),\n",
       " Row(cleaned_json='{ \"contact_name\":\"Liav\", \"contact_surname\": \"Ichenbaum\", \"city\":\"Tel Aviv\"}'),\n",
       " Row(cleaned_json='[{ \"contact_name\":\"Curtis\", \"contact_surname\":\"Jackson\", \"city\":\"Chicago\", \"cp\": \"12345\"}]'),\n",
       " Row(cleaned_json='[{ \"contact_name\":\"Anthony\", \"contact_surname\":\"Pap\", \"city\":\"Barcelona\", \"cp\": 8023}]'),\n",
       " Row(cleaned_json=None),\n",
       " Row(cleaned_json=None),\n",
       " Row(cleaned_json=None),\n",
       " Row(cleaned_json=None),\n",
       " Row(cleaned_json='[{ \"contact_name\":\"John\", \"contact_surname\":\"Krasinski\", \"city\":\"New York\", \"cp\": \"1203\"}]'),\n",
       " Row(cleaned_json='[{ \"contact_name\":\"Liav\", \"contact_surname\": \"Ichenbaum\", \"city\":\"Tel Aviv\"}'),\n",
       " Row(cleaned_json='[{ \"contact_name\":\"Jennifer\", \"contact_surname\":\"Lopez\", \"city\":\"Esplugues de Llobregat\"}]'),\n",
       " Row(cleaned_json=None),\n",
       " Row(cleaned_json=None),\n",
       " Row(cleaned_json='[{ \"contact_name\":\"Curtis\", \"contact_surname\":\"Jackson\", \"city\":\"Chicago\", \"cp\": \"12345\"}]')]"
      ]
     },
     "execution_count": 61,
     "metadata": {},
     "output_type": "execute_result"
    }
   ],
   "source": [
    "df_cleaned.select(\"cleaned_json\").collect()"
   ]
  },
  {
   "cell_type": "code",
   "execution_count": 62,
   "metadata": {},
   "outputs": [],
   "source": [
    "schema = T.ArrayType(T.StructType([\n",
    "    T.StructField(\"contact_name\", T.StringType(), True),\n",
    "    T.StructField(\"contact_surname\", T.StringType(), True),\n",
    "    T.StructField(\"city\", T.StringType(), True),\n",
    "    T.StructField(\"cp\", T.StringType(), True)\n",
    "]))\n",
    "\n",
    "df_parsed = df_cleaned.withColumn(\n",
    "        \"parsed_json\",\n",
    "        F.from_json(F.col(\"cleaned_json\"), schema)\n",
    "    )"
   ]
  },
  {
   "cell_type": "code",
   "execution_count": 63,
   "metadata": {},
   "outputs": [],
   "source": [
    "df_exploded = df_parsed.withColumn(\n",
    "        \"exploded_json\",\n",
    "        F.explode_outer(F.col(\"parsed_json\"))\n",
    "    )"
   ]
  },
  {
   "cell_type": "code",
   "execution_count": 71,
   "metadata": {},
   "outputs": [],
   "source": [
    "df_final = df_exploded.select(\n",
    "        \"order_id\",\n",
    "        \"date\",\n",
    "        \"company_id\",\n",
    "        \"company_name\",\n",
    "        \"crate_type\",\n",
    "        F.concat(\n",
    "            F.coalesce(F.col(\"exploded_json.contact_name\"), F.lit(\"John\")),\n",
    "            F.lit(\" \"),\n",
    "            F.coalesce(F.col(\"exploded_json.contact_surname\"), F.lit(\"Doe\"))\n",
    "        ).alias(\"contact_full_name\"),\n",
    "        \n",
    "        F.concat(\n",
    "            F.coalesce(F.col(\"exploded_json.city\"), F.lit(\"Unknown\")),\n",
    "            F.lit(\", \"),\n",
    "            F.coalesce(F.col(\"exploded_json.cp\"), F.lit(\"UNK00\")).cast(\"string\")\n",
    "        ).alias(\"contact_address\"),\n",
    "        \"salesowners\"\n",
    "    )"
   ]
  },
  {
   "cell_type": "code",
   "execution_count": 70,
   "metadata": {},
   "outputs": [
    {
     "name": "stdout",
     "output_type": "stream",
     "text": [
      "root\n",
      " |-- order_id: string (nullable = true)\n",
      " |-- date: string (nullable = true)\n",
      " |-- company_id: string (nullable = true)\n",
      " |-- company_name: string (nullable = true)\n",
      " |-- crate_type: string (nullable = true)\n",
      " |-- contact_data: string (nullable = true)\n",
      " |-- salesowners: string (nullable = true)\n",
      " |-- cleaned_json: string (nullable = true)\n",
      " |-- parsed_json: array (nullable = true)\n",
      " |    |-- element: struct (containsNull = true)\n",
      " |    |    |-- contact_name: string (nullable = true)\n",
      " |    |    |-- contact_surname: string (nullable = true)\n",
      " |    |    |-- city: string (nullable = true)\n",
      " |    |    |-- cp: string (nullable = true)\n",
      " |-- exploded_json: struct (nullable = true)\n",
      " |    |-- contact_name: string (nullable = true)\n",
      " |    |-- contact_surname: string (nullable = true)\n",
      " |    |-- city: string (nullable = true)\n",
      " |    |-- cp: string (nullable = true)\n",
      "\n"
     ]
    }
   ],
   "source": [
    "df_exploded.printSchema()"
   ]
  },
  {
   "cell_type": "code",
   "execution_count": 66,
   "metadata": {},
   "outputs": [
    {
     "name": "stdout",
     "output_type": "stream",
     "text": [
      "root\n",
      " |-- order_id: string (nullable = true)\n",
      " |-- date: string (nullable = true)\n",
      " |-- company_id: string (nullable = true)\n",
      " |-- company_name: string (nullable = true)\n",
      " |-- crate_type: string (nullable = true)\n",
      " |-- contact_name: string (nullable = false)\n",
      " |-- contact_surname: string (nullable = false)\n",
      " |-- city: string (nullable = false)\n",
      " |-- cp: string (nullable = false)\n",
      "\n"
     ]
    }
   ],
   "source": [
    "df_final.printSchema()"
   ]
  }
 ],
 "metadata": {
  "kernelspec": {
   "display_name": "Python 3",
   "language": "python",
   "name": "python3"
  },
  "language_info": {
   "codemirror_mode": {
    "name": "ipython",
    "version": 3
   },
   "file_extension": ".py",
   "mimetype": "text/x-python",
   "name": "python",
   "nbconvert_exporter": "python",
   "pygments_lexer": "ipython3",
   "version": "3.10.12"
  }
 },
 "nbformat": 4,
 "nbformat_minor": 2
}
